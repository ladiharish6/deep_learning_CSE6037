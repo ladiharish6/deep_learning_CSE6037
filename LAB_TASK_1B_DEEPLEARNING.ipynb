{
  "nbformat": 4,
  "nbformat_minor": 0,
  "metadata": {
    "colab": {
      "name": "LAB_TASK_1B_DEEPLEARNING.ipynb",
      "provenance": [],
      "collapsed_sections": []
    },
    "kernelspec": {
      "name": "python3",
      "display_name": "Python 3"
    }
  },
  "cells": [
    {
      "cell_type": "code",
      "metadata": {
        "id": "_Z2Dp9lbqc1Z"
      },
      "source": [
        "#LADI HARISH KUMAR\r\n",
        "#20MAI0052\r\n",
        "#Deep Learning and its Applications (CSE6037) LAB "
      ],
      "execution_count": null,
      "outputs": []
    },
    {
      "cell_type": "code",
      "metadata": {
        "id": "Tl2GTGk4Djlx"
      },
      "source": [
        ""
      ],
      "execution_count": null,
      "outputs": []
    },
    {
      "cell_type": "code",
      "metadata": {
        "id": "mfhjuQcZAA9A"
      },
      "source": [
        "#Task is to import a data set and apply perceptron and evalue the accuracy of the model"
      ],
      "execution_count": null,
      "outputs": []
    },
    {
      "cell_type": "code",
      "metadata": {
        "id": "Ji8Q04eiey-Y"
      },
      "source": [
        "#importing all the reqiuired libraries\r\n",
        "import  numpy as np\r\n",
        "import matplotlib.pyplot as plt\r\n",
        "import pandas as pd"
      ],
      "execution_count": 2,
      "outputs": []
    },
    {
      "cell_type": "code",
      "metadata": {
        "colab": {
          "base_uri": "https://localhost:8080/"
        },
        "id": "gBoZOVhCqsKd",
        "outputId": "20e29d0f-dc95-4379-8347-b7920d760152"
      },
      "source": [
        "#getting access to google drive for loading data set \r\n",
        "from google.colab import drive\r\n",
        "drive.mount('/content/drive/')"
      ],
      "execution_count": 4,
      "outputs": [
        {
          "output_type": "stream",
          "text": [
            "Drive already mounted at /content/drive/; to attempt to forcibly remount, call drive.mount(\"/content/drive/\", force_remount=True).\n"
          ],
          "name": "stdout"
        }
      ]
    },
    {
      "cell_type": "code",
      "metadata": {
        "id": "8L3rLoZRrOyj"
      },
      "source": [
        "#loading data set into a data variable\r\n",
        "data= pd.read_csv(\"/content/drive/MyDrive/DATA_SETS/loan.csv\")"
      ],
      "execution_count": 5,
      "outputs": []
    },
    {
      "cell_type": "code",
      "metadata": {
        "colab": {
          "base_uri": "https://localhost:8080/",
          "height": 282
        },
        "id": "fsdd1mSnsKgl",
        "outputId": "c117c392-8201-41a9-d4ca-7e2f3e6965e1"
      },
      "source": [
        "#viewing 1st five instancess of the data\r\n",
        "data.head()"
      ],
      "execution_count": 6,
      "outputs": [
        {
          "output_type": "execute_result",
          "data": {
            "text/html": [
              "<div>\n",
              "<style scoped>\n",
              "    .dataframe tbody tr th:only-of-type {\n",
              "        vertical-align: middle;\n",
              "    }\n",
              "\n",
              "    .dataframe tbody tr th {\n",
              "        vertical-align: top;\n",
              "    }\n",
              "\n",
              "    .dataframe thead th {\n",
              "        text-align: right;\n",
              "    }\n",
              "</style>\n",
              "<table border=\"1\" class=\"dataframe\">\n",
              "  <thead>\n",
              "    <tr style=\"text-align: right;\">\n",
              "      <th></th>\n",
              "      <th>customer_id</th>\n",
              "      <th>disbursed_amount</th>\n",
              "      <th>interest</th>\n",
              "      <th>market</th>\n",
              "      <th>employment</th>\n",
              "      <th>time_employed</th>\n",
              "      <th>householder</th>\n",
              "      <th>income</th>\n",
              "      <th>date_issued</th>\n",
              "      <th>target</th>\n",
              "      <th>loan_purpose</th>\n",
              "      <th>number_open_accounts</th>\n",
              "      <th>date_last_payment</th>\n",
              "      <th>number_credit_lines_12</th>\n",
              "    </tr>\n",
              "  </thead>\n",
              "  <tbody>\n",
              "    <tr>\n",
              "      <th>0</th>\n",
              "      <td>0</td>\n",
              "      <td>23201.5</td>\n",
              "      <td>15.4840</td>\n",
              "      <td>C</td>\n",
              "      <td>Teacher</td>\n",
              "      <td>&lt;=5 years</td>\n",
              "      <td>RENT</td>\n",
              "      <td>84600.0</td>\n",
              "      <td>2013-06-11</td>\n",
              "      <td>0</td>\n",
              "      <td>Debt consolidation</td>\n",
              "      <td>4.0</td>\n",
              "      <td>2016-01-14</td>\n",
              "      <td>NaN</td>\n",
              "    </tr>\n",
              "    <tr>\n",
              "      <th>1</th>\n",
              "      <td>1</td>\n",
              "      <td>7425.0</td>\n",
              "      <td>11.2032</td>\n",
              "      <td>B</td>\n",
              "      <td>Accountant</td>\n",
              "      <td>&lt;=5 years</td>\n",
              "      <td>OWNER</td>\n",
              "      <td>102000.0</td>\n",
              "      <td>2014-05-08</td>\n",
              "      <td>0</td>\n",
              "      <td>Car purchase</td>\n",
              "      <td>13.0</td>\n",
              "      <td>2016-01-25</td>\n",
              "      <td>NaN</td>\n",
              "    </tr>\n",
              "    <tr>\n",
              "      <th>2</th>\n",
              "      <td>2</td>\n",
              "      <td>11150.0</td>\n",
              "      <td>8.5100</td>\n",
              "      <td>A</td>\n",
              "      <td>Statistician</td>\n",
              "      <td>&lt;=5 years</td>\n",
              "      <td>RENT</td>\n",
              "      <td>69840.0</td>\n",
              "      <td>2013-10-26</td>\n",
              "      <td>0</td>\n",
              "      <td>Debt consolidation</td>\n",
              "      <td>8.0</td>\n",
              "      <td>2014-09-26</td>\n",
              "      <td>NaN</td>\n",
              "    </tr>\n",
              "    <tr>\n",
              "      <th>3</th>\n",
              "      <td>3</td>\n",
              "      <td>7600.0</td>\n",
              "      <td>5.8656</td>\n",
              "      <td>A</td>\n",
              "      <td>Other</td>\n",
              "      <td>&lt;=5 years</td>\n",
              "      <td>RENT</td>\n",
              "      <td>100386.0</td>\n",
              "      <td>2015-08-20</td>\n",
              "      <td>0</td>\n",
              "      <td>Debt consolidation</td>\n",
              "      <td>20.0</td>\n",
              "      <td>2016-01-26</td>\n",
              "      <td>NaN</td>\n",
              "    </tr>\n",
              "    <tr>\n",
              "      <th>4</th>\n",
              "      <td>4</td>\n",
              "      <td>31960.0</td>\n",
              "      <td>18.7392</td>\n",
              "      <td>E</td>\n",
              "      <td>Bus driver</td>\n",
              "      <td>&gt;5 years</td>\n",
              "      <td>RENT</td>\n",
              "      <td>95040.0</td>\n",
              "      <td>2014-07-22</td>\n",
              "      <td>0</td>\n",
              "      <td>Debt consolidation</td>\n",
              "      <td>14.0</td>\n",
              "      <td>2016-01-11</td>\n",
              "      <td>NaN</td>\n",
              "    </tr>\n",
              "  </tbody>\n",
              "</table>\n",
              "</div>"
            ],
            "text/plain": [
              "   customer_id  disbursed_amount  ...  date_last_payment number_credit_lines_12\n",
              "0            0           23201.5  ...         2016-01-14                    NaN\n",
              "1            1            7425.0  ...         2016-01-25                    NaN\n",
              "2            2           11150.0  ...         2014-09-26                    NaN\n",
              "3            3            7600.0  ...         2016-01-26                    NaN\n",
              "4            4           31960.0  ...         2016-01-11                    NaN\n",
              "\n",
              "[5 rows x 14 columns]"
            ]
          },
          "metadata": {
            "tags": []
          },
          "execution_count": 6
        }
      ]
    },
    {
      "cell_type": "code",
      "metadata": {
        "colab": {
          "base_uri": "https://localhost:8080/"
        },
        "id": "iXZZlLT2sOhG",
        "outputId": "afe4bfad-6171-49c5-aa73-03f17fd2017e"
      },
      "source": [
        "#seeking (no.of instances,no. of features)\r\n",
        "data.shape"
      ],
      "execution_count": 7,
      "outputs": [
        {
          "output_type": "execute_result",
          "data": {
            "text/plain": [
              "(10000, 14)"
            ]
          },
          "metadata": {
            "tags": []
          },
          "execution_count": 7
        }
      ]
    },
    {
      "cell_type": "code",
      "metadata": {
        "id": "-hprz-YSslLR"
      },
      "source": [
        "#taking 10th column as the label for the data set\r\n",
        "y=data.iloc[:,9].values"
      ],
      "execution_count": 13,
      "outputs": []
    },
    {
      "cell_type": "code",
      "metadata": {
        "colab": {
          "base_uri": "https://localhost:8080/"
        },
        "id": "O2uHWE4NtXdb",
        "outputId": "926d9b31-1dd7-4b20-f915-b238c9de34bd"
      },
      "source": [
        "y"
      ],
      "execution_count": 14,
      "outputs": [
        {
          "output_type": "execute_result",
          "data": {
            "text/plain": [
              "array([0, 0, 0, ..., 0, 0, 0])"
            ]
          },
          "metadata": {
            "tags": []
          },
          "execution_count": 14
        }
      ]
    },
    {
      "cell_type": "code",
      "metadata": {
        "colab": {
          "base_uri": "https://localhost:8080/"
        },
        "id": "KloS64dTyT1Z",
        "outputId": "febecdd5-577b-40ee-e9d7-647e4a06fd30"
      },
      "source": [
        "data[['date_issued','date_last_payment']].dtypes"
      ],
      "execution_count": 18,
      "outputs": [
        {
          "output_type": "execute_result",
          "data": {
            "text/plain": [
              "date_issued          object\n",
              "date_last_payment    object\n",
              "dtype: object"
            ]
          },
          "metadata": {
            "tags": []
          },
          "execution_count": 18
        }
      ]
    },
    {
      "cell_type": "code",
      "metadata": {
        "id": "doKCK5jxyl5V"
      },
      "source": [
        "#adding two new columns at the eend of the data set\r\n",
        "data['date_issued_dt'] = pd.to_datetime(data['date_issued'])\r\n",
        "data['date_last_payment_dt'] = pd.to_datetime(data['date_last_payment'])\r\n",
        "data['year']= data['date_issued_dt'].dt.year\r\n",
        "data['month']= data['date_issued_dt'].dt.month"
      ],
      "execution_count": 19,
      "outputs": []
    },
    {
      "cell_type": "code",
      "metadata": {
        "colab": {
          "base_uri": "https://localhost:8080/"
        },
        "id": "JYBV27zYyMdp",
        "outputId": "234fee43-d9c8-4c9b-fd9a-a084f40617e1"
      },
      "source": [
        "#new shape of the data\r\n",
        "data.shape"
      ],
      "execution_count": 20,
      "outputs": [
        {
          "output_type": "execute_result",
          "data": {
            "text/plain": [
              "(10000, 18)"
            ]
          },
          "metadata": {
            "tags": []
          },
          "execution_count": 20
        }
      ]
    },
    {
      "cell_type": "code",
      "metadata": {
        "id": "99FD95Ahzvh_"
      },
      "source": [
        "#choosing features for applying perceptron\r\n",
        "x=data.iloc[:, [0,1,2,7,11,16,17]].values"
      ],
      "execution_count": 27,
      "outputs": []
    },
    {
      "cell_type": "code",
      "metadata": {
        "id": "ARPuzwsXz8nZ"
      },
      "source": [
        "#splitting into train and test set 20% for testing rest 80% for training\r\n",
        "from sklearn.model_selection import train_test_split\r\n",
        "x_train,x_test,y_train,y_test = train_test_split(x,y, test_size = 0.2, random_state =0)"
      ],
      "execution_count": 28,
      "outputs": []
    },
    {
      "cell_type": "code",
      "metadata": {
        "id": "OVBFDbIJ0jSQ"
      },
      "source": [
        "#importing and creating a perceptron model \r\n",
        "from sklearn.linear_model import Perceptron\r\n",
        "perceptron_object=Perceptron(random_state=0)"
      ],
      "execution_count": 30,
      "outputs": []
    },
    {
      "cell_type": "code",
      "metadata": {
        "colab": {
          "base_uri": "https://localhost:8080/"
        },
        "id": "gFgjuKah4WaO",
        "outputId": "19de75f4-463e-428c-9500-3d0d17808e3d"
      },
      "source": [
        "#applying perceptron model on the data set\r\n",
        "perceptron_object.fit(x_train,y_train)\r\n",
        "perceptron_pred1=perceptron_object.predict(x_test)\r\n",
        "perceptron_pred1"
      ],
      "execution_count": 36,
      "outputs": [
        {
          "output_type": "execute_result",
          "data": {
            "text/plain": [
              "array([0, 0, 0, ..., 0, 0, 0])"
            ]
          },
          "metadata": {
            "tags": []
          },
          "execution_count": 36
        }
      ]
    },
    {
      "cell_type": "code",
      "metadata": {
        "colab": {
          "base_uri": "https://localhost:8080/"
        },
        "id": "7440rAHU4fFD",
        "outputId": "0a829f9a-1f26-47ff-b5cd-a5a30c900c00"
      },
      "source": [
        "#calculating the accuracy for this model\r\n",
        "from sklearn.metrics import accuracy_score\r\n",
        "print('Accuracy score')\r\n",
        "accuracy_score(y_test,perceptron_pred1)*100"
      ],
      "execution_count": 37,
      "outputs": [
        {
          "output_type": "stream",
          "text": [
            "Accuracy score\n"
          ],
          "name": "stdout"
        },
        {
          "output_type": "execute_result",
          "data": {
            "text/plain": [
              "99.1"
            ]
          },
          "metadata": {
            "tags": []
          },
          "execution_count": 37
        }
      ]
    },
    {
      "cell_type": "code",
      "metadata": {
        "id": "3h8Q6MRm8NwS"
      },
      "source": [
        "#splitting into train and test set 30% for testing rest 70% for training\r\n",
        "from sklearn.model_selection import train_test_split\r\n",
        "x_train,x_test,y_train,y_test = train_test_split(x,y, test_size = 0.3, random_state =50)"
      ],
      "execution_count": 38,
      "outputs": []
    },
    {
      "cell_type": "code",
      "metadata": {
        "colab": {
          "base_uri": "https://localhost:8080/"
        },
        "id": "TPDOvJDa8wdh",
        "outputId": "5c41c487-7f06-4be8-c683-0c7ad7201c0e"
      },
      "source": [
        "#calculating the accuracy for this model\r\n",
        "perceptron_object.fit(x_train,y_train)\r\n",
        "perceptron_pred2=perceptron_object.predict(x_test)\r\n",
        "perceptron_pred2"
      ],
      "execution_count": 39,
      "outputs": [
        {
          "output_type": "execute_result",
          "data": {
            "text/plain": [
              "array([0, 0, 0, ..., 0, 0, 0])"
            ]
          },
          "metadata": {
            "tags": []
          },
          "execution_count": 39
        }
      ]
    },
    {
      "cell_type": "code",
      "metadata": {
        "colab": {
          "base_uri": "https://localhost:8080/"
        },
        "id": "C8O_4a609reF",
        "outputId": "7de1f508-d026-4e57-e9ac-4af4fa0b14f6"
      },
      "source": [
        "from sklearn.metrics import accuracy_score\r\n",
        "print('Accuracy score')\r\n",
        "accuracy_score(y_test,perceptron_pred2)*100"
      ],
      "execution_count": 40,
      "outputs": [
        {
          "output_type": "stream",
          "text": [
            "Accuracy score\n"
          ],
          "name": "stdout"
        },
        {
          "output_type": "execute_result",
          "data": {
            "text/plain": [
              "98.7"
            ]
          },
          "metadata": {
            "tags": []
          },
          "execution_count": 40
        }
      ]
    },
    {
      "cell_type": "code",
      "metadata": {
        "colab": {
          "base_uri": "https://localhost:8080/",
          "height": 302
        },
        "id": "Bg9KyxPn9vGx",
        "outputId": "2a924dfd-fb18-4daf-c3f1-5fa11acaec2b"
      },
      "source": [
        "#determining confusion matrix for the model\r\n",
        "from sklearn.metrics import confusion_matrix\r\n",
        "import seaborn as sns\r\n",
        "cm=confusion_matrix(y_test,perceptron_pred2)\r\n",
        "plt.imshow(cm, cmap='plasma')\r\n"
      ],
      "execution_count": 47,
      "outputs": [
        {
          "output_type": "stream",
          "text": [
            "[[2961    0]\n",
            " [  39    0]]\n"
          ],
          "name": "stdout"
        },
        {
          "output_type": "display_data",
          "data": {
            "image/png": "[encoded data removed]",
            "text/plain": [
              "<Figure size 432x288 with 1 Axes>"
            ]
          },
          "metadata": {
            "tags": [],
            "needs_background": "light"
          }
        }
      ]
    },
    {
      "cell_type": "code",
      "metadata": {
        "colab": {
          "base_uri": "https://localhost:8080/"
        },
        "id": "EVVoIpcv-HQy",
        "outputId": "fc836767-5191-42f7-9f74-58ab3e1ce5e3"
      },
      "source": [
        "print(cm)"
      ],
      "execution_count": 48,
      "outputs": [
        {
          "output_type": "stream",
          "text": [
            "[[2961    0]\n",
            " [  39    0]]\n"
          ],
          "name": "stdout"
        }
      ]
    },
    {
      "cell_type": "code",
      "metadata": {
        "id": "51-1JhA8_U0E"
      },
      "source": [
        ""
      ],
      "execution_count": null,
      "outputs": []
    }
  ]
}