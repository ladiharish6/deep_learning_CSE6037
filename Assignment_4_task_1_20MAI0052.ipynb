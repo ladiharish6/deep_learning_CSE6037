{
  "nbformat": 4,
  "nbformat_minor": 0,
  "metadata": {
    "colab": {
      "name": "Assignment_4_task_1_20MAI0052.ipynb",
      "provenance": [],
      "collapsed_sections": []
    },
    "kernelspec": {
      "name": "python3",
      "display_name": "Python 3"
    },
    "language_info": {
      "name": "python"
    },
    "accelerator": "GPU"
  },
  "cells": [
    {
      "cell_type": "markdown",
      "metadata": {
        "id": "P6WY9I6jN1c-"
      },
      "source": [
        "## **LADI HARISH KUMAR___20MAI0052**"
      ]
    },
    {
      "cell_type": "code",
      "metadata": {
        "id": "i5oT9TSmIUjW"
      },
      "source": [
        "import numpy as np\n",
        "import pandas as pd"
      ],
      "execution_count": null,
      "outputs": []
    },
    {
      "cell_type": "code",
      "metadata": {
        "id": "BbYmribTIb7l"
      },
      "source": [
        "import keras\n",
        "from keras.models import Sequential\n",
        "from keras.layers import Dense, Activation, Dropout, Flatten, Conv2D, MaxPooling2D\n",
        "from keras.layers.normalization import BatchNormalization"
      ],
      "execution_count": null,
      "outputs": []
    },
    {
      "cell_type": "code",
      "metadata": {
        "colab": {
          "base_uri": "https://localhost:8080/"
        },
        "id": "rE2trP-lIe1R",
        "outputId": "b3f249af-5274-498a-ed05-6a679842f7c8"
      },
      "source": [
        "AlexNet = Sequential()\n",
        "\n",
        "#1st Convolutional Layer\n",
        "AlexNet.add(Conv2D(filters=96, input_shape=(32,32,3), kernel_size=(11,11), strides=(4,4), padding='same'))\n",
        "AlexNet.add(BatchNormalization())\n",
        "AlexNet.add(Activation('relu'))\n",
        "AlexNet.add(MaxPooling2D(pool_size=(2,2), strides=(2,2), padding='same'))\n",
        "\n",
        "#2nd Convolutional Layer\n",
        "AlexNet.add(Conv2D(filters=256, kernel_size=(5, 5), strides=(1,1), padding='same'))\n",
        "AlexNet.add(BatchNormalization())\n",
        "AlexNet.add(Activation('relu'))\n",
        "AlexNet.add(MaxPooling2D(pool_size=(2,2), strides=(2,2), padding='same'))\n",
        "\n",
        "#3rd Convolutional Layer\n",
        "AlexNet.add(Conv2D(filters=384, kernel_size=(3,3), strides=(1,1), padding='same'))\n",
        "AlexNet.add(BatchNormalization())\n",
        "AlexNet.add(Activation('relu'))\n",
        "\n",
        "#4th Convolutional Layer\n",
        "AlexNet.add(Conv2D(filters=384, kernel_size=(3,3), strides=(1,1), padding='same'))\n",
        "AlexNet.add(BatchNormalization())\n",
        "AlexNet.add(Activation('relu'))\n",
        "\n",
        "#5th Convolutional Layer\n",
        "AlexNet.add(Conv2D(filters=256, kernel_size=(3,3), strides=(1,1), padding='same'))\n",
        "AlexNet.add(BatchNormalization())\n",
        "AlexNet.add(Activation('relu'))\n",
        "AlexNet.add(MaxPooling2D(pool_size=(2,2), strides=(2,2), padding='same'))\n",
        "\n",
        "#Passing it to a Fully Connected layer\n",
        "AlexNet.add(Flatten())\n",
        "# 1st Fully Connected Layer\n",
        "AlexNet.add(Dense(4096, input_shape=(32,32,3,)))\n",
        "AlexNet.add(BatchNormalization())\n",
        "AlexNet.add(Activation('relu'))\n",
        "# Add Dropout to prevent overfitting\n",
        "AlexNet.add(Dropout(0.4))\n",
        "\n",
        "#2nd Fully Connected Layer\n",
        "AlexNet.add(Dense(4096))\n",
        "AlexNet.add(BatchNormalization())\n",
        "AlexNet.add(Activation('relu'))\n",
        "#Add Dropout\n",
        "AlexNet.add(Dropout(0.4))\n",
        "\n",
        "#3rd Fully Connected Layer\n",
        "AlexNet.add(Dense(1000))\n",
        "AlexNet.add(BatchNormalization())\n",
        "AlexNet.add(Activation('relu'))\n",
        "#Add Dropout\n",
        "AlexNet.add(Dropout(0.4))\n",
        "\n",
        "#Output Layer\n",
        "AlexNet.add(Dense(10))\n",
        "AlexNet.add(BatchNormalization())\n",
        "AlexNet.add(Activation('softmax'))\n",
        "\n",
        "#Model Summary\n",
        "AlexNet.summary()"
      ],
      "execution_count": null,
      "outputs": [
        {
          "output_type": "stream",
          "text": [
            "Model: \"sequential\"\n",
            "_________________________________________________________________\n",
            "Layer (type)                 Output Shape              Param #   \n",
            "=================================================================\n",
            "conv2d (Conv2D)              (None, 8, 8, 96)          34944     \n",
            "_________________________________________________________________\n",
            "batch_normalization (BatchNo (None, 8, 8, 96)          384       \n",
            "_________________________________________________________________\n",
            "activation (Activation)      (None, 8, 8, 96)          0         \n",
            "_________________________________________________________________\n",
            "max_pooling2d (MaxPooling2D) (None, 4, 4, 96)          0         \n",
            "_________________________________________________________________\n",
            "conv2d_1 (Conv2D)            (None, 4, 4, 256)         614656    \n",
            "_________________________________________________________________\n",
            "batch_normalization_1 (Batch (None, 4, 4, 256)         1024      \n",
            "_________________________________________________________________\n",
            "activation_1 (Activation)    (None, 4, 4, 256)         0         \n",
            "_________________________________________________________________\n",
            "max_pooling2d_1 (MaxPooling2 (None, 2, 2, 256)         0         \n",
            "_________________________________________________________________\n",
            "conv2d_2 (Conv2D)            (None, 2, 2, 384)         885120    \n",
            "_________________________________________________________________\n",
            "batch_normalization_2 (Batch (None, 2, 2, 384)         1536      \n",
            "_________________________________________________________________\n",
            "activation_2 (Activation)    (None, 2, 2, 384)         0         \n",
            "_________________________________________________________________\n",
            "conv2d_3 (Conv2D)            (None, 2, 2, 384)         1327488   \n",
            "_________________________________________________________________\n",
            "batch_normalization_3 (Batch (None, 2, 2, 384)         1536      \n",
            "_________________________________________________________________\n",
            "activation_3 (Activation)    (None, 2, 2, 384)         0         \n",
            "_________________________________________________________________\n",
            "conv2d_4 (Conv2D)            (None, 2, 2, 256)         884992    \n",
            "_________________________________________________________________\n",
            "batch_normalization_4 (Batch (None, 2, 2, 256)         1024      \n",
            "_________________________________________________________________\n",
            "activation_4 (Activation)    (None, 2, 2, 256)         0         \n",
            "_________________________________________________________________\n",
            "max_pooling2d_2 (MaxPooling2 (None, 1, 1, 256)         0         \n",
            "_________________________________________________________________\n",
            "flatten (Flatten)            (None, 256)               0         \n",
            "_________________________________________________________________\n",
            "dense (Dense)                (None, 4096)              1052672   \n",
            "_________________________________________________________________\n",
            "batch_normalization_5 (Batch (None, 4096)              16384     \n",
            "_________________________________________________________________\n",
            "activation_5 (Activation)    (None, 4096)              0         \n",
            "_________________________________________________________________\n",
            "dropout (Dropout)            (None, 4096)              0         \n",
            "_________________________________________________________________\n",
            "dense_1 (Dense)              (None, 4096)              16781312  \n",
            "_________________________________________________________________\n",
            "batch_normalization_6 (Batch (None, 4096)              16384     \n",
            "_________________________________________________________________\n",
            "activation_6 (Activation)    (None, 4096)              0         \n",
            "_________________________________________________________________\n",
            "dropout_1 (Dropout)          (None, 4096)              0         \n",
            "_________________________________________________________________\n",
            "dense_2 (Dense)              (None, 1000)              4097000   \n",
            "_________________________________________________________________\n",
            "batch_normalization_7 (Batch (None, 1000)              4000      \n",
            "_________________________________________________________________\n",
            "activation_7 (Activation)    (None, 1000)              0         \n",
            "_________________________________________________________________\n",
            "dropout_2 (Dropout)          (None, 1000)              0         \n",
            "_________________________________________________________________\n",
            "dense_3 (Dense)              (None, 10)                10010     \n",
            "_________________________________________________________________\n",
            "batch_normalization_8 (Batch (None, 10)                40        \n",
            "_________________________________________________________________\n",
            "activation_8 (Activation)    (None, 10)                0         \n",
            "=================================================================\n",
            "Total params: 25,730,506\n",
            "Trainable params: 25,709,350\n",
            "Non-trainable params: 21,156\n",
            "_________________________________________________________________\n"
          ],
          "name": "stdout"
        }
      ]
    },
    {
      "cell_type": "code",
      "metadata": {
        "id": "Mr-TlQn8IgtL"
      },
      "source": [
        "AlexNet.compile(loss = keras.losses.categorical_crossentropy, optimizer= 'adam', metrics=['accuracy'])"
      ],
      "execution_count": null,
      "outputs": []
    },
    {
      "cell_type": "code",
      "metadata": {
        "colab": {
          "base_uri": "https://localhost:8080/"
        },
        "id": "-MPYUc1QIj5l",
        "outputId": "e03b89f1-f0ec-431e-a4fd-21288e8aa1e1"
      },
      "source": [
        "\n",
        "#Keras library for CIFAR dataset\n",
        "from keras.datasets import cifar10\n",
        "(x_train, y_train),(x_test, y_test)=cifar10.load_data()\n",
        "\n",
        "#Train-validation-test split\n",
        "from sklearn.model_selection import train_test_split\n",
        "x_train,x_val,y_train,y_val=train_test_split(x_train,y_train,test_size=.3)\n",
        "\n",
        "\n",
        "#Dimension of the CIFAR10 dataset\n",
        "print((x_train.shape,y_train.shape))\n",
        "print((x_val.shape,y_val.shape))\n",
        "print((x_test.shape,y_test.shape))\n"
      ],
      "execution_count": null,
      "outputs": [
        {
          "output_type": "stream",
          "text": [
            "Downloading data from https://www.cs.toronto.edu/~kriz/cifar-10-python.tar.gz\n",
            "170500096/170498071 [==============================] - 4s 0us/step\n",
            "((35000, 32, 32, 3), (35000, 1))\n",
            "((15000, 32, 32, 3), (15000, 1))\n",
            "((10000, 32, 32, 3), (10000, 1))\n"
          ],
          "name": "stdout"
        }
      ]
    },
    {
      "cell_type": "code",
      "metadata": {
        "colab": {
          "base_uri": "https://localhost:8080/"
        },
        "id": "p1T2xHAJIl6I",
        "outputId": "53e7af7a-b017-404e-f023-41803db7d23c"
      },
      "source": [
        "\n",
        "#Onehot Encoding the labels.\n",
        "from sklearn.utils.multiclass import unique_labels\n",
        "from keras.utils import to_categorical\n",
        "\n",
        "#Since we have 10 classes we should expect the shape[1] of y_train,y_val and y_test to change from 1 to 10\n",
        "y_train=to_categorical(y_train)\n",
        "y_val=to_categorical(y_val)\n",
        "y_test=to_categorical(y_test)\n",
        "\n",
        "#Verifying the dimension after one hot encoding\n",
        "print((x_train.shape,y_train.shape))\n",
        "print((x_val.shape,y_val.shape))\n",
        "print((x_test.shape,y_test.shape))"
      ],
      "execution_count": null,
      "outputs": [
        {
          "output_type": "stream",
          "text": [
            "((35000, 32, 32, 3), (35000, 10))\n",
            "((15000, 32, 32, 3), (15000, 10))\n",
            "((10000, 32, 32, 3), (10000, 10))\n"
          ],
          "name": "stdout"
        }
      ]
    },
    {
      "cell_type": "code",
      "metadata": {
        "colab": {
          "base_uri": "https://localhost:8080/"
        },
        "id": "3zFXYxooIolk",
        "outputId": "87c51ca1-d891-40c1-90b5-f8bd76fb57c3"
      },
      "source": [
        "#Defining the parameters\n",
        "batch_size= 100\n",
        "epochs=50\n",
        "#Training the model\n",
        "AlexNet.fit(x_train, y_train,\n",
        "batch_size=batch_size,\n",
        "epochs=epochs,\n",
        "verbose=1,\n",
        "validation_data=(x_val, y_val))"
      ],
      "execution_count": null,
      "outputs": [
        {
          "output_type": "stream",
          "text": [
            "Epoch 1/50\n",
            "350/350 [==============================] - 38s 18ms/step - loss: 1.8048 - accuracy: 0.3451 - val_loss: 2.4508 - val_accuracy: 0.1779\n",
            "Epoch 2/50\n",
            "350/350 [==============================] - 6s 16ms/step - loss: 1.4017 - accuracy: 0.5071 - val_loss: 2.0009 - val_accuracy: 0.3037\n",
            "Epoch 3/50\n",
            "350/350 [==============================] - 6s 16ms/step - loss: 1.2564 - accuracy: 0.5633 - val_loss: 1.9430 - val_accuracy: 0.3681\n",
            "Epoch 4/50\n",
            "350/350 [==============================] - 6s 16ms/step - loss: 1.1336 - accuracy: 0.6112 - val_loss: 1.9930 - val_accuracy: 0.3867\n",
            "Epoch 5/50\n",
            "350/350 [==============================] - 6s 16ms/step - loss: 1.0282 - accuracy: 0.6522 - val_loss: 1.5851 - val_accuracy: 0.4753\n",
            "Epoch 6/50\n",
            "350/350 [==============================] - 6s 16ms/step - loss: 0.9379 - accuracy: 0.6878 - val_loss: 1.6394 - val_accuracy: 0.4722\n",
            "Epoch 7/50\n",
            "350/350 [==============================] - 6s 16ms/step - loss: 0.8409 - accuracy: 0.7170 - val_loss: 1.6355 - val_accuracy: 0.4851\n",
            "Epoch 8/50\n",
            "350/350 [==============================] - 6s 16ms/step - loss: 0.7519 - accuracy: 0.7517 - val_loss: 1.5141 - val_accuracy: 0.5015\n",
            "Epoch 9/50\n",
            "350/350 [==============================] - 6s 16ms/step - loss: 0.6646 - accuracy: 0.7828 - val_loss: 2.0430 - val_accuracy: 0.4275\n",
            "Epoch 10/50\n",
            "350/350 [==============================] - 6s 16ms/step - loss: 0.5821 - accuracy: 0.8079 - val_loss: 1.7620 - val_accuracy: 0.4682\n",
            "Epoch 11/50\n",
            "350/350 [==============================] - 6s 16ms/step - loss: 0.5125 - accuracy: 0.8340 - val_loss: 1.9545 - val_accuracy: 0.4213\n",
            "Epoch 12/50\n",
            "350/350 [==============================] - 6s 16ms/step - loss: 0.4316 - accuracy: 0.8645 - val_loss: 1.6630 - val_accuracy: 0.5357\n",
            "Epoch 13/50\n",
            "350/350 [==============================] - 6s 16ms/step - loss: 0.3713 - accuracy: 0.8833 - val_loss: 1.9449 - val_accuracy: 0.4415\n",
            "Epoch 14/50\n",
            "350/350 [==============================] - 6s 16ms/step - loss: 0.3311 - accuracy: 0.8947 - val_loss: 1.7548 - val_accuracy: 0.5057\n",
            "Epoch 15/50\n",
            "350/350 [==============================] - 6s 16ms/step - loss: 0.2870 - accuracy: 0.9122 - val_loss: 1.6719 - val_accuracy: 0.5125\n",
            "Epoch 16/50\n",
            "350/350 [==============================] - 6s 16ms/step - loss: 0.2466 - accuracy: 0.9270 - val_loss: 2.5156 - val_accuracy: 0.3932\n",
            "Epoch 17/50\n",
            "350/350 [==============================] - 6s 16ms/step - loss: 0.2154 - accuracy: 0.9367 - val_loss: 2.4183 - val_accuracy: 0.4157\n",
            "Epoch 18/50\n",
            "350/350 [==============================] - 6s 16ms/step - loss: 0.1861 - accuracy: 0.9439 - val_loss: 1.7305 - val_accuracy: 0.5281\n",
            "Epoch 19/50\n",
            "350/350 [==============================] - 6s 16ms/step - loss: 0.1874 - accuracy: 0.9452 - val_loss: 1.8787 - val_accuracy: 0.5213\n",
            "Epoch 20/50\n",
            "350/350 [==============================] - 6s 16ms/step - loss: 0.1714 - accuracy: 0.9475 - val_loss: 1.8516 - val_accuracy: 0.5247\n",
            "Epoch 21/50\n",
            "350/350 [==============================] - 6s 16ms/step - loss: 0.1505 - accuracy: 0.9560 - val_loss: 1.7867 - val_accuracy: 0.5567\n",
            "Epoch 22/50\n",
            "350/350 [==============================] - 6s 16ms/step - loss: 0.1450 - accuracy: 0.9561 - val_loss: 1.9085 - val_accuracy: 0.5317\n",
            "Epoch 23/50\n",
            "350/350 [==============================] - 6s 16ms/step - loss: 0.1362 - accuracy: 0.9572 - val_loss: 2.9259 - val_accuracy: 0.3374\n",
            "Epoch 24/50\n",
            "350/350 [==============================] - 6s 16ms/step - loss: 0.1243 - accuracy: 0.9636 - val_loss: 1.7927 - val_accuracy: 0.5533\n",
            "Epoch 25/50\n",
            "350/350 [==============================] - 6s 16ms/step - loss: 0.1182 - accuracy: 0.9631 - val_loss: 2.4611 - val_accuracy: 0.4227\n",
            "Epoch 26/50\n",
            "350/350 [==============================] - 6s 16ms/step - loss: 0.1147 - accuracy: 0.9646 - val_loss: 1.7566 - val_accuracy: 0.5533\n",
            "Epoch 27/50\n",
            "350/350 [==============================] - 6s 16ms/step - loss: 0.0989 - accuracy: 0.9702 - val_loss: 2.2966 - val_accuracy: 0.4717\n",
            "Epoch 28/50\n",
            "350/350 [==============================] - 6s 16ms/step - loss: 0.1027 - accuracy: 0.9689 - val_loss: 2.2961 - val_accuracy: 0.4793\n",
            "Epoch 29/50\n",
            "350/350 [==============================] - 6s 16ms/step - loss: 0.0852 - accuracy: 0.9739 - val_loss: 2.3177 - val_accuracy: 0.4287\n",
            "Epoch 30/50\n",
            "350/350 [==============================] - 6s 16ms/step - loss: 0.0923 - accuracy: 0.9713 - val_loss: 1.9411 - val_accuracy: 0.5251\n",
            "Epoch 31/50\n",
            "350/350 [==============================] - 6s 16ms/step - loss: 0.0926 - accuracy: 0.9716 - val_loss: 2.3242 - val_accuracy: 0.4919\n",
            "Epoch 32/50\n",
            "350/350 [==============================] - 6s 16ms/step - loss: 0.0769 - accuracy: 0.9764 - val_loss: 2.3564 - val_accuracy: 0.4537\n",
            "Epoch 33/50\n",
            "350/350 [==============================] - 6s 16ms/step - loss: 0.0930 - accuracy: 0.9716 - val_loss: 2.6104 - val_accuracy: 0.4238\n",
            "Epoch 34/50\n",
            "350/350 [==============================] - 6s 16ms/step - loss: 0.0740 - accuracy: 0.9777 - val_loss: 2.0092 - val_accuracy: 0.5384\n",
            "Epoch 35/50\n",
            "350/350 [==============================] - 6s 16ms/step - loss: 0.0654 - accuracy: 0.9791 - val_loss: 2.2348 - val_accuracy: 0.5150\n",
            "Epoch 36/50\n",
            "350/350 [==============================] - 6s 16ms/step - loss: 0.0717 - accuracy: 0.9782 - val_loss: 2.1909 - val_accuracy: 0.5117\n",
            "Epoch 37/50\n",
            "350/350 [==============================] - 6s 16ms/step - loss: 0.0804 - accuracy: 0.9747 - val_loss: 2.2480 - val_accuracy: 0.5089\n",
            "Epoch 38/50\n",
            "350/350 [==============================] - 6s 16ms/step - loss: 0.0725 - accuracy: 0.9778 - val_loss: 1.7848 - val_accuracy: 0.5715\n",
            "Epoch 39/50\n",
            "350/350 [==============================] - 6s 16ms/step - loss: 0.0670 - accuracy: 0.9788 - val_loss: 1.8980 - val_accuracy: 0.5519\n",
            "Epoch 40/50\n",
            "350/350 [==============================] - 6s 16ms/step - loss: 0.0557 - accuracy: 0.9835 - val_loss: 2.1375 - val_accuracy: 0.5326\n",
            "Epoch 41/50\n",
            "350/350 [==============================] - 6s 16ms/step - loss: 0.0709 - accuracy: 0.9766 - val_loss: 2.2910 - val_accuracy: 0.5013\n",
            "Epoch 42/50\n",
            "350/350 [==============================] - 6s 16ms/step - loss: 0.0571 - accuracy: 0.9822 - val_loss: 2.4516 - val_accuracy: 0.4791\n",
            "Epoch 43/50\n",
            "350/350 [==============================] - 6s 16ms/step - loss: 0.0532 - accuracy: 0.9844 - val_loss: 1.9068 - val_accuracy: 0.5545\n",
            "Epoch 44/50\n",
            "350/350 [==============================] - 6s 16ms/step - loss: 0.0513 - accuracy: 0.9848 - val_loss: 2.0438 - val_accuracy: 0.5122\n",
            "Epoch 45/50\n",
            "350/350 [==============================] - 6s 16ms/step - loss: 0.0574 - accuracy: 0.9815 - val_loss: 2.4826 - val_accuracy: 0.4538\n",
            "Epoch 46/50\n",
            "350/350 [==============================] - 6s 16ms/step - loss: 0.0457 - accuracy: 0.9853 - val_loss: 2.3635 - val_accuracy: 0.4911\n",
            "Epoch 47/50\n",
            "350/350 [==============================] - 6s 16ms/step - loss: 0.0506 - accuracy: 0.9838 - val_loss: 2.2810 - val_accuracy: 0.5003\n",
            "Epoch 48/50\n",
            "350/350 [==============================] - 6s 16ms/step - loss: 0.0584 - accuracy: 0.9812 - val_loss: 1.9658 - val_accuracy: 0.5647\n",
            "Epoch 49/50\n",
            "350/350 [==============================] - 6s 16ms/step - loss: 0.0476 - accuracy: 0.9846 - val_loss: 2.3629 - val_accuracy: 0.5032\n",
            "Epoch 50/50\n",
            "350/350 [==============================] - 6s 16ms/step - loss: 0.0497 - accuracy: 0.9852 - val_loss: 3.0148 - val_accuracy: 0.3892\n"
          ],
          "name": "stdout"
        },
        {
          "output_type": "execute_result",
          "data": {
            "text/plain": [
              "<tensorflow.python.keras.callbacks.History at 0x7f7a2dfae690>"
            ]
          },
          "metadata": {
            "tags": []
          },
          "execution_count": 8
        }
      ]
    },
    {
      "cell_type": "code",
      "metadata": {
        "colab": {
          "base_uri": "https://localhost:8080/"
        },
        "id": "1PPaMqeNIq7d",
        "outputId": "3e889a43-c7da-4e09-b08b-2fffd20ebeba"
      },
      "source": [
        "\n",
        "AlexNet.evaluate(x_test,y_test)"
      ],
      "execution_count": null,
      "outputs": [
        {
          "output_type": "stream",
          "text": [
            "313/313 [==============================] - 2s 5ms/step - loss: 3.0183 - accuracy: 0.3952\n"
          ],
          "name": "stdout"
        },
        {
          "output_type": "execute_result",
          "data": {
            "text/plain": [
              "[3.0183019638061523, 0.3952000141143799]"
            ]
          },
          "metadata": {
            "tags": []
          },
          "execution_count": 9
        }
      ]
    },
    {
      "cell_type": "code",
      "metadata": {
        "id": "F8fmRiabKopK"
      },
      "source": [
        "!mkdir -p saved_model\n",
        "AlexNet.save('saved_model/AlexNetModel.h5')"
      ],
      "execution_count": null,
      "outputs": []
    },
    {
      "cell_type": "markdown",
      "metadata": {
        "id": "hx2yK8iwK1nO"
      },
      "source": [
        "\n",
        "Transfer Learning using the AlexNet Model"
      ]
    },
    {
      "cell_type": "code",
      "metadata": {
        "id": "7rToaRelKtoU"
      },
      "source": [
        "\n",
        "import tensorflow as tf\n",
        "import os\n"
      ],
      "execution_count": null,
      "outputs": []
    },
    {
      "cell_type": "code",
      "metadata": {
        "id": "TAXtIcd0K2Yd"
      },
      "source": [
        "Base_model = tf.keras.models.load_model('saved_model/AlexNetModel.h5')\n"
      ],
      "execution_count": null,
      "outputs": []
    },
    {
      "cell_type": "code",
      "metadata": {
        "id": "RPgZeN0vL6eg"
      },
      "source": [
        "nb_train_samples =60000\n",
        "nb_valid_samples =10000\n",
        "num_classes = 10"
      ],
      "execution_count": null,
      "outputs": []
    },
    {
      "cell_type": "code",
      "metadata": {
        "colab": {
          "base_uri": "https://localhost:8080/"
        },
        "id": "omP2AOinK8mk",
        "outputId": "503351b9-3718-4962-a5be-3ac3819889f6"
      },
      "source": [
        "(X_train,Y_train), (X_valid, Y_valid) = tf.keras.datasets.mnist.load_data()\n",
        "\n",
        "# expand new axis, channel axis \n",
        "X_train = np.expand_dims(X_train, axis=-1)\n",
        "\n",
        "# [optional]: we may need 3 channel (instead of 1)\n",
        "X_train = np.repeat(X_train, 3, axis=-1)\n",
        "\n",
        "# it's always better to normalize \n",
        "X_train = X_train.astype('float32') / 255\n",
        "\n",
        "# resize the input shape , i.e. old shape: 28, new shape: 32\n",
        "X_train = tf.image.resize(X_train, [32,32]) # if we want to resize \n",
        "\n",
        "print(X_train.shape)\n",
        "\n",
        "X_valid = np.expand_dims(X_valid, axis=-1)\n",
        "\n",
        "# [optional]: we may need 3 channel (instead of 1)\n",
        "X_valid = np.repeat(X_valid, 3, axis=-1)\n",
        "\n",
        "# it's always better to normalize \n",
        "X_valid = X_valid.astype('float32') / 255\n",
        "\n",
        "# resize the input shape , i.e. old shape: 28, new shape: 32\n",
        "X_valid = tf.image.resize(X_valid, [32,32]) # if we want to resize \n",
        "\n",
        "print(X_valid.shape)\n",
        "\n",
        "from keras.utils import np_utils\n",
        "Y_train = np_utils.to_categorical(Y_train[:nb_train_samples], num_classes)\n",
        "Y_valid = np_utils.to_categorical(Y_valid[:nb_valid_samples], num_classes)\n",
        "\n",
        "print((X_train.shape,Y_train.shape))\n",
        "print((X_valid.shape,Y_valid.shape))"
      ],
      "execution_count": null,
      "outputs": [
        {
          "output_type": "stream",
          "text": [
            "(60000, 32, 32, 3)\n",
            "(10000, 32, 32, 3)\n",
            "(TensorShape([60000, 32, 32, 3]), (60000, 10))\n",
            "(TensorShape([10000, 32, 32, 3]), (10000, 10))\n"
          ],
          "name": "stdout"
        }
      ]
    },
    {
      "cell_type": "code",
      "metadata": {
        "id": "5Jkw4vgqLEwG"
      },
      "source": [
        "\n",
        "from keras.models import load_model\n",
        "new_model = load_model('saved_model/AlexNetModel.h5')"
      ],
      "execution_count": null,
      "outputs": []
    },
    {
      "cell_type": "code",
      "metadata": {
        "colab": {
          "base_uri": "https://localhost:8080/"
        },
        "id": "vhpZrsm7Mw1b",
        "outputId": "a449945a-273f-4539-f273-a3b30d72569a"
      },
      "source": [
        "\n",
        "new_model.summary()"
      ],
      "execution_count": null,
      "outputs": [
        {
          "output_type": "stream",
          "text": [
            "Model: \"sequential\"\n",
            "_________________________________________________________________\n",
            "Layer (type)                 Output Shape              Param #   \n",
            "=================================================================\n",
            "conv2d (Conv2D)              (None, 8, 8, 96)          34944     \n",
            "_________________________________________________________________\n",
            "batch_normalization (BatchNo (None, 8, 8, 96)          384       \n",
            "_________________________________________________________________\n",
            "activation (Activation)      (None, 8, 8, 96)          0         \n",
            "_________________________________________________________________\n",
            "max_pooling2d (MaxPooling2D) (None, 4, 4, 96)          0         \n",
            "_________________________________________________________________\n",
            "conv2d_1 (Conv2D)            (None, 4, 4, 256)         614656    \n",
            "_________________________________________________________________\n",
            "batch_normalization_1 (Batch (None, 4, 4, 256)         1024      \n",
            "_________________________________________________________________\n",
            "activation_1 (Activation)    (None, 4, 4, 256)         0         \n",
            "_________________________________________________________________\n",
            "max_pooling2d_1 (MaxPooling2 (None, 2, 2, 256)         0         \n",
            "_________________________________________________________________\n",
            "conv2d_2 (Conv2D)            (None, 2, 2, 384)         885120    \n",
            "_________________________________________________________________\n",
            "batch_normalization_2 (Batch (None, 2, 2, 384)         1536      \n",
            "_________________________________________________________________\n",
            "activation_2 (Activation)    (None, 2, 2, 384)         0         \n",
            "_________________________________________________________________\n",
            "conv2d_3 (Conv2D)            (None, 2, 2, 384)         1327488   \n",
            "_________________________________________________________________\n",
            "batch_normalization_3 (Batch (None, 2, 2, 384)         1536      \n",
            "_________________________________________________________________\n",
            "activation_3 (Activation)    (None, 2, 2, 384)         0         \n",
            "_________________________________________________________________\n",
            "conv2d_4 (Conv2D)            (None, 2, 2, 256)         884992    \n",
            "_________________________________________________________________\n",
            "batch_normalization_4 (Batch (None, 2, 2, 256)         1024      \n",
            "_________________________________________________________________\n",
            "activation_4 (Activation)    (None, 2, 2, 256)         0         \n",
            "_________________________________________________________________\n",
            "max_pooling2d_2 (MaxPooling2 (None, 1, 1, 256)         0         \n",
            "_________________________________________________________________\n",
            "flatten (Flatten)            (None, 256)               0         \n",
            "_________________________________________________________________\n",
            "dense (Dense)                (None, 4096)              1052672   \n",
            "_________________________________________________________________\n",
            "batch_normalization_5 (Batch (None, 4096)              16384     \n",
            "_________________________________________________________________\n",
            "activation_5 (Activation)    (None, 4096)              0         \n",
            "_________________________________________________________________\n",
            "dropout (Dropout)            (None, 4096)              0         \n",
            "_________________________________________________________________\n",
            "dense_1 (Dense)              (None, 4096)              16781312  \n",
            "_________________________________________________________________\n",
            "batch_normalization_6 (Batch (None, 4096)              16384     \n",
            "_________________________________________________________________\n",
            "activation_6 (Activation)    (None, 4096)              0         \n",
            "_________________________________________________________________\n",
            "dropout_1 (Dropout)          (None, 4096)              0         \n",
            "_________________________________________________________________\n",
            "dense_2 (Dense)              (None, 1000)              4097000   \n",
            "_________________________________________________________________\n",
            "batch_normalization_7 (Batch (None, 1000)              4000      \n",
            "_________________________________________________________________\n",
            "activation_7 (Activation)    (None, 1000)              0         \n",
            "_________________________________________________________________\n",
            "dropout_2 (Dropout)          (None, 1000)              0         \n",
            "_________________________________________________________________\n",
            "dense_3 (Dense)              (None, 10)                10010     \n",
            "_________________________________________________________________\n",
            "batch_normalization_8 (Batch (None, 10)                40        \n",
            "_________________________________________________________________\n",
            "activation_8 (Activation)    (None, 10)                0         \n",
            "=================================================================\n",
            "Total params: 25,730,506\n",
            "Trainable params: 25,709,350\n",
            "Non-trainable params: 21,156\n",
            "_________________________________________________________________\n"
          ],
          "name": "stdout"
        }
      ]
    },
    {
      "cell_type": "code",
      "metadata": {
        "colab": {
          "base_uri": "https://localhost:8080/"
        },
        "id": "DEkCWjH0NEEY",
        "outputId": "a5fbd16a-f55a-41c1-bd4a-186cc56910a9"
      },
      "source": [
        "new_model.trainable=False\n",
        "model = tf.keras.Sequential([\n",
        "    new_model,\n",
        "    tf.keras.layers.Flatten(),\n",
        "    tf.keras.layers.Dense(10, activation='softmax')\n",
        "])\n",
        "\n",
        "model.compile(\n",
        "    optimizer='adam',\n",
        "    loss = 'categorical_crossentropy',\n",
        "    metrics=['accuracy']\n",
        ")\n",
        "\n",
        "model.summary()"
      ],
      "execution_count": null,
      "outputs": [
        {
          "output_type": "stream",
          "text": [
            "Model: \"sequential_1\"\n",
            "_________________________________________________________________\n",
            "Layer (type)                 Output Shape              Param #   \n",
            "=================================================================\n",
            "sequential (Sequential)      (None, 10)                25730506  \n",
            "_________________________________________________________________\n",
            "flatten_1 (Flatten)          (None, 10)                0         \n",
            "_________________________________________________________________\n",
            "dense_4 (Dense)              (None, 10)                110       \n",
            "=================================================================\n",
            "Total params: 25,730,616\n",
            "Trainable params: 110\n",
            "Non-trainable params: 25,730,506\n",
            "_________________________________________________________________\n"
          ],
          "name": "stdout"
        }
      ]
    },
    {
      "cell_type": "code",
      "metadata": {
        "colab": {
          "base_uri": "https://localhost:8080/"
        },
        "id": "fE9zrw78NH6D",
        "outputId": "1699f68a-49c3-4d39-9a3d-66fac026b44d"
      },
      "source": [
        "\n",
        "history = model.fit(X_train, Y_train,\n",
        "batch_size=batch_size,\n",
        "epochs=10,\n",
        "verbose=1,\n",
        "validation_data=(X_valid, Y_valid))"
      ],
      "execution_count": null,
      "outputs": [
        {
          "output_type": "stream",
          "text": [
            "Epoch 1/10\n",
            "600/600 [==============================] - 5s 7ms/step - loss: 2.3091 - accuracy: 0.1018 - val_loss: 2.3013 - val_accuracy: 0.1135\n",
            "Epoch 2/10\n",
            "600/600 [==============================] - 4s 6ms/step - loss: 2.3022 - accuracy: 0.1090 - val_loss: 2.3013 - val_accuracy: 0.1135\n",
            "Epoch 3/10\n",
            "600/600 [==============================] - 4s 6ms/step - loss: 2.3018 - accuracy: 0.1092 - val_loss: 2.3010 - val_accuracy: 0.1135\n",
            "Epoch 4/10\n",
            "600/600 [==============================] - 4s 6ms/step - loss: 2.3017 - accuracy: 0.1113 - val_loss: 2.3010 - val_accuracy: 0.1135\n",
            "Epoch 5/10\n",
            "600/600 [==============================] - 4s 6ms/step - loss: 2.3016 - accuracy: 0.1106 - val_loss: 2.3008 - val_accuracy: 0.1135\n",
            "Epoch 6/10\n",
            "600/600 [==============================] - 4s 6ms/step - loss: 2.3011 - accuracy: 0.1125 - val_loss: 2.3010 - val_accuracy: 0.1135\n",
            "Epoch 7/10\n",
            "600/600 [==============================] - 4s 6ms/step - loss: 2.3013 - accuracy: 0.1150 - val_loss: 2.3010 - val_accuracy: 0.1135\n",
            "Epoch 8/10\n",
            "600/600 [==============================] - 4s 6ms/step - loss: 2.3014 - accuracy: 0.1135 - val_loss: 2.3008 - val_accuracy: 0.1135\n",
            "Epoch 9/10\n",
            "600/600 [==============================] - 4s 6ms/step - loss: 2.3009 - accuracy: 0.1154 - val_loss: 2.3008 - val_accuracy: 0.1135\n",
            "Epoch 10/10\n",
            "600/600 [==============================] - 4s 6ms/step - loss: 2.3013 - accuracy: 0.1111 - val_loss: 2.3008 - val_accuracy: 0.1135\n"
          ],
          "name": "stdout"
        }
      ]
    },
    {
      "cell_type": "code",
      "metadata": {
        "id": "SFhLy57zNLJ9"
      },
      "source": [
        ""
      ],
      "execution_count": null,
      "outputs": []
    }
  ]
}