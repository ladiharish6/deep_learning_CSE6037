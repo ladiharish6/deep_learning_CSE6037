{
  "nbformat": 4,
  "nbformat_minor": 0,
  "metadata": {
    "colab": {
      "name": "LAB_TASK_1A_DEEPLEARNING.ipynb",
      "provenance": [],
      "collapsed_sections": []
    },
    "kernelspec": {
      "name": "python3",
      "display_name": "Python 3"
    }
  },
  "cells": [
    {
      "cell_type": "code",
      "metadata": {
        "id": "t0cRxdcuGRWP"
      },
      "source": [
        "#LADI HARISH KUMAR\r\n",
        "#20MAI0052\r\n",
        "#Deep Learning and its Applications (CSE6037) LAB "
      ],
      "execution_count": null,
      "outputs": []
    },
    {
      "cell_type": "code",
      "metadata": {
        "id": "KYVrsrSUGaRV"
      },
      "source": [
        "#Task is  to create own data set then apply simple single layer perceptron for one epoche and then finally find the accuracy for the model."
      ],
      "execution_count": null,
      "outputs": []
    },
    {
      "cell_type": "markdown",
      "metadata": {
        "id": "WFaZ6ew0Hie1"
      },
      "source": [
        ""
      ]
    },
    {
      "cell_type": "code",
      "metadata": {
        "colab": {
          "base_uri": "https://localhost:8080/"
        },
        "id": "PMPt3dt5tPJV",
        "outputId": "7aa132a6-0c17-4b8b-9385-118d997bf50b"
      },
      "source": [
        "#generating 10 instances for input data each instance has 9 features\r\n",
        "#selecting random value in the range of (0 to 9) for the input variables\r\n",
        "import random\r\n",
        "rows, cols = (10, 9) \r\n",
        "x_data = [[random.randint(0,9) for i in range(cols)] for j in range(rows)] \r\n",
        "print(x_data) "
      ],
      "execution_count": null,
      "outputs": [
        {
          "output_type": "stream",
          "text": [
            "[[7, 7, 5, 4, 1, 3, 8, 4, 1], [5, 8, 9, 9, 2, 4, 8, 4, 6], [5, 8, 7, 7, 2, 8, 3, 9, 8], [4, 3, 6, 1, 5, 2, 0, 0, 3], [6, 4, 8, 1, 0, 6, 4, 4, 7], [2, 2, 7, 8, 8, 6, 7, 4, 9], [0, 7, 4, 4, 7, 1, 4, 8, 1], [7, 1, 0, 2, 3, 7, 2, 7, 5], [6, 5, 6, 8, 8, 3, 7, 5, 5], [7, 7, 5, 4, 6, 8, 6, 0, 0]]\n"
          ],
          "name": "stdout"
        }
      ]
    },
    {
      "cell_type": "code",
      "metadata": {
        "colab": {
          "base_uri": "https://localhost:8080/"
        },
        "id": "KBnrmcyBu5Ke",
        "outputId": "fcc0adc7-6618-4dd3-da65-f25de6bf6b5f"
      },
      "source": [
        "#assigning the labels(i.e. either 0 or 1) for the all the instances\r\n",
        "y_data=[random.randint(0,1) for i in range(rows)]\r\n",
        "print(y_data)"
      ],
      "execution_count": null,
      "outputs": [
        {
          "output_type": "stream",
          "text": [
            "[0, 1, 0, 1, 1, 1, 1, 1, 0, 1]\n"
          ],
          "name": "stdout"
        }
      ]
    },
    {
      "cell_type": "code",
      "metadata": {
        "colab": {
          "base_uri": "https://localhost:8080/"
        },
        "id": "c9d4NDmjwvd7",
        "outputId": "1c21089e-31f7-4195-cb8a-bf59cd3d42b1"
      },
      "source": [
        "#displaying the created input data\r\n",
        "for i in range(rows):\r\n",
        " print(x_data[i])"
      ],
      "execution_count": null,
      "outputs": [
        {
          "output_type": "stream",
          "text": [
            "[7, 7, 5, 4, 1, 3, 8, 4, 1]\n",
            "[5, 8, 9, 9, 2, 4, 8, 4, 6]\n",
            "[5, 8, 7, 7, 2, 8, 3, 9, 8]\n",
            "[4, 3, 6, 1, 5, 2, 0, 0, 3]\n",
            "[6, 4, 8, 1, 0, 6, 4, 4, 7]\n",
            "[2, 2, 7, 8, 8, 6, 7, 4, 9]\n",
            "[0, 7, 4, 4, 7, 1, 4, 8, 1]\n",
            "[7, 1, 0, 2, 3, 7, 2, 7, 5]\n",
            "[6, 5, 6, 8, 8, 3, 7, 5, 5]\n",
            "[7, 7, 5, 4, 6, 8, 6, 0, 0]\n"
          ],
          "name": "stdout"
        }
      ]
    },
    {
      "cell_type": "code",
      "metadata": {
        "id": "F9ciMdNmyFFQ"
      },
      "source": [
        "#initializing weights for the inputs randomlly in between 0.1 to 0.5\r\n",
        "weights_list=[round(random.randint(1,5)*0.1,1) for i in range(cols)]"
      ],
      "execution_count": null,
      "outputs": []
    },
    {
      "cell_type": "code",
      "metadata": {
        "colab": {
          "base_uri": "https://localhost:8080/"
        },
        "id": "pPQ-xXo60DSv",
        "outputId": "4da2273e-db3d-4c7c-ce0d-d5093b1a0dc7"
      },
      "source": [
        "#displaying all the 9 weights each for one feature\r\n",
        "for i in range(cols):\r\n",
        "  print(\"Weight w\",i+1,\"=\",weights_list[i])"
      ],
      "execution_count": null,
      "outputs": [
        {
          "output_type": "stream",
          "text": [
            "Weight w 1 = 0.4\n",
            "Weight w 2 = 0.4\n",
            "Weight w 3 = 0.2\n",
            "Weight w 4 = 0.2\n",
            "Weight w 5 = 0.4\n",
            "Weight w 6 = 0.4\n",
            "Weight w 7 = 0.3\n",
            "Weight w 8 = 0.3\n",
            "Weight w 9 = 0.1\n"
          ],
          "name": "stdout"
        }
      ]
    },
    {
      "cell_type": "code",
      "metadata": {
        "id": "J5yqbt4Q0LLa"
      },
      "source": [
        "#Calculating the weighted sum(SIGMA wixi) and storing in a list \r\n",
        "x=0\r\n",
        "weighted_sum_list=[]\r\n",
        "for i in range(rows):\r\n",
        "  for j in range(cols):\r\n",
        "    x+=x_data[i][j]*weights_list[j]\r\n",
        "  weighted_sum_list.append(round(x,1))"
      ],
      "execution_count": null,
      "outputs": []
    },
    {
      "cell_type": "code",
      "metadata": {
        "colab": {
          "base_uri": "https://localhost:8080/"
        },
        "id": "vTIIcLiM2zBF",
        "outputId": "64481cff-1c71-4fae-fa11-853aecab1b94"
      },
      "source": [
        "print(weighted_sum_list)"
      ],
      "execution_count": null,
      "outputs": [
        {
          "output_type": "stream",
          "text": [
            "[12.7, 28.1, 44.5, 51.8, 63.1, 77.5, 88.8, 99.6, 115.3, 130.1]\n"
          ],
          "name": "stdout"
        }
      ]
    },
    {
      "cell_type": "code",
      "metadata": {
        "id": "0btO40N48wZV"
      },
      "source": [
        "#assuming w0 the bias and threshold b and applying activation function for the prediction\r\n",
        "wo=20\r\n",
        "b=80\r\n",
        "predicted_list=[]\r\n",
        "for i in range(rows):\r\n",
        "  predicted_list.append(1 if (weighted_sum_list[i]+wo)>=b else 0)"
      ],
      "execution_count": null,
      "outputs": []
    },
    {
      "cell_type": "code",
      "metadata": {
        "colab": {
          "base_uri": "https://localhost:8080/"
        },
        "id": "iVcyuiMz_4q-",
        "outputId": "bddc19ca-04de-4cd0-d9f0-865961c35a23"
      },
      "source": [
        "print(predicted_list)"
      ],
      "execution_count": null,
      "outputs": [
        {
          "output_type": "stream",
          "text": [
            "[0, 0, 0, 0, 1, 1, 1, 1, 1, 1]\n"
          ],
          "name": "stdout"
        }
      ]
    },
    {
      "cell_type": "code",
      "metadata": {
        "id": "OQkUXw8w_80W"
      },
      "source": [
        "#checking the accuracy of the model\r\n",
        "loss_list=[]\r\n",
        "for i in range(rows):\r\n",
        "  loss_list.append(0 if predicted_list[i]==y_data[i] else 1)\r\n"
      ],
      "execution_count": null,
      "outputs": []
    },
    {
      "cell_type": "code",
      "metadata": {
        "colab": {
          "base_uri": "https://localhost:8080/"
        },
        "id": "raF3BIrEAzeW",
        "outputId": "34167389-796d-4381-a595-d695bc008ba2"
      },
      "source": [
        "print(loss_list)"
      ],
      "execution_count": null,
      "outputs": [
        {
          "output_type": "stream",
          "text": [
            "[0, 1, 0, 1, 0, 0, 0, 0, 1, 0]\n"
          ],
          "name": "stdout"
        }
      ]
    },
    {
      "cell_type": "code",
      "metadata": {
        "id": "AF_F44W-A26B"
      },
      "source": [
        "total_misses=0\r\n",
        "for i in range(rows):\r\n",
        "    total_misses+=loss_list[i]"
      ],
      "execution_count": null,
      "outputs": []
    },
    {
      "cell_type": "code",
      "metadata": {
        "colab": {
          "base_uri": "https://localhost:8080/"
        },
        "id": "ELVhCLF_CF5X",
        "outputId": "ac489fe5-3270-4b40-b28b-ae10ba5eadff"
      },
      "source": [
        "total_hits=len(loss_list)-total_misses\r\n",
        "print(total_hits)"
      ],
      "execution_count": null,
      "outputs": [
        {
          "output_type": "stream",
          "text": [
            "7\n"
          ],
          "name": "stdout"
        }
      ]
    },
    {
      "cell_type": "code",
      "metadata": {
        "colab": {
          "base_uri": "https://localhost:8080/"
        },
        "id": "X3MLWDVfCk9r",
        "outputId": "a9f24514-163d-4fd2-c503-f82d14d7d028"
      },
      "source": [
        "accuracy=(total_hits/len(loss_list))*100\r\n",
        "print(accuracy)"
      ],
      "execution_count": null,
      "outputs": [
        {
          "output_type": "stream",
          "text": [
            "70.0\n"
          ],
          "name": "stdout"
        }
      ]
    },
    {
      "cell_type": "code",
      "metadata": {
        "id": "8ln6whdpnZhE"
      },
      "source": [
        "#when predicted don't match the actual label we have to update the weights \r\n",
        "#assuming learning rate (alpha)\r\n",
        "#w(new)=w(old)+(target*alpha*input)\r\n",
        "alpha=0.025\r\n",
        "for j in range(rows):\r\n",
        "  for i in range(cols):\r\n",
        "    if predicted_list[i] != y_data[i]\r\n",
        "      weights_list[i]=weight_list[i]+(y_data[i]*alpha*x_data[j][i])"
      ],
      "execution_count": null,
      "outputs": []
    },
    {
      "cell_type": "code",
      "metadata": {
        "id": "WQCam0-xCxUA"
      },
      "source": [
        "##this model is 70% accuracte "
      ],
      "execution_count": null,
      "outputs": []
    },
    {
      "cell_type": "code",
      "metadata": {
        "id": "M7gZL2VqGRJf"
      },
      "source": [
        "## NOTE THAT ACCURACY WILL BE DIFFER IN ANOTHER RUN BEACUSE OF USE OF RANDOM FUNCTION"
      ],
      "execution_count": null,
      "outputs": []
    }
  ]
}