{
 "cells": [
  {
   "cell_type": "code",
   "execution_count": 87,
   "metadata": {},
   "outputs": [],
   "source": [
    "#LADI HARISH KUMAR #20MAI0052 #Deep Learning and its Applications (CSE6037) LAB"
   ]
  },
  {
   "cell_type": "raw",
   "metadata": {},
   "source": [
    "Assignment 2 \n",
    "LAB TASK 2 \n",
    "Take a random image and apply convolution method using this following filters\n",
    "(2A) Applying Box filter of 3 X 3 and 5 X 5 and compare it.\n",
    "(2B)Applying Box filter of 3 X 3 and 5 X 5 and compare it. HERE THE STRIDE=2 \n",
    "(2C)Apply zero padding before applying Box filter of 3 X 3 and 5 X 5 and compare it\n",
    "And also Entropy of the input image is being calculated"
   ]
  },
  {
   "cell_type": "code",
   "execution_count": 67,
   "metadata": {},
   "outputs": [],
   "source": [
    "#importing required libraries \n",
    "from cv2 import cv2\n",
    "import numpy as np\n",
   ]
  },
  {
   "cell_type": "code",
   "execution_count": 78,
   "metadata": {},
   "outputs": [
    {
     "name": "stdout",
     "output_type": "stream",
     "text": [
      "[[0.04 0.04 0.04 0.04 0.04]\n",
      " [0.04 0.04 0.04 0.04 0.04]\n",
      " [0.04 0.04 0.04 0.04 0.04]\n",
      " [0.04 0.04 0.04 0.04 0.04]\n",
      " [0.04 0.04 0.04 0.04 0.04]]\n"
     ]
    }
   ],
   "source": [
    "#reading the image from the local drive\n",
    "cat=cv2.imread(\"cat_image.jpg\")\n",
    "#resizing the image square dimension\n",
    "cat=cv2.resize(cat,(600,600))\n",
    "#defining the filter of 3 X 3 size and applying it first\n",
    "#filter1=np.array([(1,1,1),(1,1,1),(1,1,1)])*(1/9)\n",
    "#defining the filter of 5 X 5 size and comapre it\n",
    "filter1=np.array([(1,1,1,1,1),(1,1,1,1,1),(1,1,1,1,1),(1,1,1,1,1),(1,1,1,1,1)])*(1/25)\n",
    "print(filter1)"
   ]
  },
  {
   "cell_type": "code",
   "execution_count": 79,
   "metadata": {},
   "outputs": [
    {
     "data": {
      "text/plain": [
       "-1"
      ]
     },
     "execution_count": 79,
     "metadata": {},
     "output_type": "execute_result"
    }
   ],
   "source": [
    "C=cat.shape\n",
    "F=filter1.shape\n",
    "#converting the colouerd cat image into grayscale image or (Binary conversion)\n",
    "cat_gray=cv2.cvtColor(cat,cv2.COLOR_BGR2GRAY)\n",
    "cv2.imshow(\"Before_coverting\",cat)\n",
    "cv2.waitKey(0)"
   ]
  },
  {
   "cell_type": "code",
   "execution_count": 80,
   "metadata": {},
   "outputs": [
    {
     "name": "stdout",
     "output_type": "stream",
     "text": [
      "[[ 50  50  49 ... 155 155 155]\n",
      " [ 51  50  50 ... 153 154 154]\n",
      " [ 51  50  50 ... 152 153 153]\n",
      " ...\n",
      " [ 30  30  29 ...  66  64  69]\n",
      " [ 30  29  29 ...  70  71  72]\n",
      " [ 30  29  28 ...  63  80  67]]\n"
     ]
    }
   ],
   "source": [
    "cv2.imshow(\"After_coverting\",cat_gray)\n",
    "cv2.waitKey(0)\n",
    "print(cat_gray)"
   ]
  },
  {
   "cell_type": "code",
   "execution_count": 81,
   "metadata": {},
   "outputs": [
    {
     "name": "stdout",
     "output_type": "stream",
     "text": [
      "[[ 50  50  49 ... 155 155 155]\n",
      " [ 51  50  50 ... 153 154 154]\n",
      " [ 51  50  50 ... 152 153 153]\n",
      " ...\n",
      " [ 30  30  29 ...  66  64  69]\n",
      " [ 30  29  29 ...  70  71  72]\n",
      " [ 30  29  28 ...  63  80  67]]\n",
      "<class 'numpy.ndarray'>\n",
      "[[ 50  50  49 ... 155 155 155]\n",
      " [ 51  50  50 ... 153 154 154]\n",
      " [ 51  50  50 ... 152 153 153]\n",
      " ...\n",
      " [ 30  30  29 ...  66  64  69]\n",
      " [ 30  29  29 ...  70  71  72]\n",
      " [ 30  29  28 ...  63  80  67]]\n",
      "<class 'numpy.ndarray'>\n"
     ]
    }
   ],
   "source": [
    "print(cat_gray)\n",
    "print(type(cat_gray))\n",
    "cat_gray2=cat_gray\n",
    "print(cat_gray2)\n",
    "print(type(cat_gray2))"
   ]
  },
  {
   "cell_type": "code",
   "execution_count": 82,
   "metadata": {},
   "outputs": [
    {
     "name": "stdout",
     "output_type": "stream",
     "text": [
      "51\n",
      "[[51 50 49 ... 93 62 31]\n",
      " [51 51 50 ... 92 62 31]\n",
      " [51 51 50 ... 92 62 31]\n",
      " ...\n",
      " [17 17 16 ... 25 17  9]\n",
      " [12 11 11 ... 17 12  6]\n",
      " [ 6  6  6 ...  9  6  3]]\n"
     ]
    },
    {
     "data": {
      "text/plain": [
       "-1"
      ]
     },
     "execution_count": 82,
     "metadata": {},
     "output_type": "execute_result"
    }
   ],
   "source": [
    "#(2A) Applying Box filter of 3 X 3 and 5 X 5 and comapre it.\n",
    "import math\n",
    "def pro_sum(m,n):\n",
    "    sum=0\n",
    "    for i in range(m.shape[0]):\n",
    "        for j in range(m.shape[1]):\n",
    "            sum=sum+(m[i,j]*n[i,j])\n",
    "    return math.ceil(sum)\n",
    "X1=np.array([(1,1,1),(1,1,1),(1,1,1)])*(1/9)\n",
    "X2=np.array([(50,50,49),(51,50,50),(51,50,50)])\n",
    "print(pro_sum(X1,X2))\n",
    "for i in range(C[0]):\n",
    "    for j in range(C[1]):\n",
    "        k = cat_gray[i:i+F[0],j:j+F[1]]#slicing the image in the form of multiple filter dimension \n",
    "        l = pro_sum(k,filter1)\n",
    "        cat_gray2[i][j]=l\n",
    "print(cat_gray2)        \n",
    "cv2.imshow(\"The convoluted image is \",cat_gray2)\n",
    "cv2.waitKey(0)"
   ]
  },
  {
   "cell_type": "code",
   "execution_count": 83,
   "metadata": {},
   "outputs": [
    {
     "name": "stdout",
     "output_type": "stream",
     "text": [
      "[[51 51 50 ... 38 19  7]\n",
      " [51 51 50 ... 38 19  7]\n",
      " [51 51 50 ... 38 19  7]\n",
      " ...\n",
      " [ 7  7  6 ...  5  3  1]\n",
      " [ 4  4  4 ...  3  2  1]\n",
      " [ 2  2  2 ...  1  1  1]]\n"
     ]
    },
    {
     "data": {
      "text/plain": [
       "-1"
      ]
     },
     "execution_count": 83,
     "metadata": {},
     "output_type": "execute_result"
    }
   ],
   "source": [
    "#(2B)Applying Box filter of 3 X 3 and 5 X 5 and comapre it.HERE THE STRIDE=2\n",
    "cat_gray3=cat_gray\n",
    "import math\n",
    "def pro_sum(m,n):\n",
    "    sum=0\n",
    "    for i in range(m.shape[0]):\n",
    "        for j in range(m.shape[1]):\n",
    "            sum=sum+(m[i,j]*n[i,j])\n",
    "    return math.ceil(sum)\n",
    "\n",
    "for i in range(C[0]):\n",
    "    for j in range(C[1]):\n",
    "        k = cat_gray[i:i+F[0],j:j+F[1]]#slicing the image in the form of multiple filter dimension \n",
    "        l = pro_sum(k,filter1)\n",
    "        cat_gray3[i][j]=l\n",
    "        j+=1 #here the stride is 2 or filter jumps by 2 pixals intead of 1\n",
    "    i+=1\n",
    "print(cat_gray3)        \n",
    "cv2.imshow(\"The convoluted image is \",cat_gray3)\n",
    "cv2.waitKey(0)"
   ]
  },
  {
   "cell_type": "code",
   "execution_count": 84,
   "metadata": {},
   "outputs": [
    {
     "name": "stdout",
     "output_type": "stream",
     "text": [
      "[[0. 0. 0. ... 0. 0. 0.]\n",
      " [0. 0. 0. ... 0. 0. 0.]\n",
      " [0. 0. 0. ... 0. 0. 0.]\n",
      " ...\n",
      " [0. 0. 0. ... 0. 0. 0.]\n",
      " [0. 0. 0. ... 0. 0. 0.]\n",
      " [0. 0. 0. ... 0. 0. 0.]]\n",
      "(604, 604)\n"
     ]
    }
   ],
   "source": [
    "#(2C) Apply zero padding before applying Box filter of 3 X 3 and 5 X 5 and comapre it\n",
    "A=C[0]+F[0]-1\n",
    "B=C[1]+F[1]-1\n",
    "Y= np.zeros((A,B))#creating the image of all zero intensity pixals\n",
    "print(Y)\n",
    "print(Y.shape)\n",
    "Z=Y"
   ]
  },
  {
   "cell_type": "code",
   "execution_count": 85,
   "metadata": {},
   "outputs": [
    {
     "name": "stdout",
     "output_type": "stream",
     "text": [
      "The pixal values after zero padding is \n",
      "[[ 0.  0.  0. ...  0.  0.  0.]\n",
      " [ 0.  0.  0. ...  0.  0.  0.]\n",
      " [ 0.  0. 51. ...  7.  0.  0.]\n",
      " ...\n",
      " [ 0.  0.  2. ...  1.  0.  0.]\n",
      " [ 0.  0.  0. ...  0.  0.  0.]\n",
      " [ 0.  0.  0. ...  0.  0.  0.]]\n",
      "(604, 604)\n",
      "0.0 0.0\n"
     ]
    }
   ],
   "source": [
    "#fitting the input image in the centre of zero intensity pixals image Y to form zero padeded image Z\n",
    "for i in range(C[0]):\n",
    "    for j in range(C[1]):\n",
    "        m=np.int((F[0]-1)/2)\n",
    "        n=np.int((F[1]-1)/2)\n",
    "        Z[i+m,j+n]=cat_gray[i,j]\n",
    "print(\"The pixal values after zero padding is \")\n",
    "print(Z)\n",
    "print(Z.shape)\n",
    "print(Z[0,0],Z[1,1])"
   ]
  },
  {
   "cell_type": "code",
   "execution_count": 86,
   "metadata": {},
   "outputs": [
    {
     "name": "stdout",
     "output_type": "stream",
     "text": [
      "[[19 25 31 ... 27 16  8]\n",
      " [25 33 41 ... 36 21 11]\n",
      " [31 41 51 ... 44 26 13]\n",
      " ...\n",
      " [ 5  7  8 ...  7  4  3]\n",
      " [ 3  4  5 ...  4  3  2]\n",
      " [ 2  2  3 ...  3  2  1]]\n"
     ]
    },
    {
     "data": {
      "text/plain": [
       "-1"
      ]
     },
     "execution_count": 86,
     "metadata": {},
     "output_type": "execute_result"
    }
   ],
   "source": [
    "cat_gray4=cat_gray\n",
    "import math\n",
    "def pro_sum(m,n):\n",
    "    sum=0\n",
    "    for i in range(m.shape[0]):\n",
    "        for j in range(m.shape[1]):\n",
    "            sum=sum+(m[i,j]*n[i,j])\n",
    "    return math.ceil(sum)\n",
    "\n",
    "for i in range(C[0]):\n",
    "    for j in range(C[1]):\n",
    "        k = Z[i:i+F[0],j:j+F[1]]#slicing the image in the form of multiple filter dimension \n",
    "        l = pro_sum(k,filter1)\n",
    "        cat_gray3[i][j]=l\n",
    "\n",
    "print(cat_gray3)        \n",
    "cv2.imshow(\"The convoluted image is \",cat_gray4)\n",
    "cv2.waitKey(0)"
   ]
  },
  {
   "cell_type": "code",
   "execution_count": 66,
   "metadata": {},
   "outputs": [
    {
     "name": "stdout",
     "output_type": "stream",
     "text": [
      "7.623610413215537\n"
     ]
    }
   ],
   "source": [
    "#Entropy of the input image\n",
    "import skimage.measure    \n",
    "entropy = skimage.measure.shannon_entropy(cat_gray)\n",
    "print(entropy)"
   ]
  },
  {
   "cell_type": "code",
   "execution_count": null,
   "metadata": {},
   "outputs": [],
   "source": []
  }
 ],
 "metadata": {
  "kernelspec": {
   "display_name": "Python 3",
   "language": "python",
   "name": "python3"
  },
  "language_info": {
   "codemirror_mode": {
    "name": "ipython",
    "version": 3
   },
   "file_extension": ".py",
   "mimetype": "text/x-python",
   "name": "python",
   "nbconvert_exporter": "python",
   "pygments_lexer": "ipython3",
   "version": "3.8.5"
  }
 },
 "nbformat": 4,
 "nbformat_minor": 4
}
